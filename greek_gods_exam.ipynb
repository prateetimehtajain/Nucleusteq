{
 "cells": [
  {
   "cell_type": "code",
   "execution_count": 69,
   "metadata": {},
   "outputs": [],
   "source": [
    "import pandas as pd\n",
    "import numpy as np"
   ]
  },
  {
   "cell_type": "code",
   "execution_count": 4,
   "metadata": {},
   "outputs": [],
   "source": [
    "pd1=pd.read_csv(\"greek_goddesses.csv\")\n",
    "pd2=pd.read_csv(\"greek_gods.csv\")"
   ]
  },
  {
   "cell_type": "code",
   "execution_count": 6,
   "metadata": {},
   "outputs": [
    {
     "name": "stdout",
     "output_type": "stream",
     "text": [
      "      Goddess                   Domain         Symbol    Age       God\n",
      "0   Aphrodite          Goddess of Love           Dove   7000       NaN\n",
      "1     Artemis      Goddess of the Hunt  Bow and Arrow   7500       NaN\n",
      "2     Demeter   Goddess of Agriculture          Wheat   8000       NaN\n",
      "3      Hestia    Goddess of the Hearth           Fire   8200       NaN\n",
      "4  Persephone  Queen of the Underworld    Pomegranate   7800       NaN\n",
      "5         NaN         King of the Gods    Thunderbolt  10000      Zeus\n",
      "6         NaN           God of the Sea        Trident   9000  Poseidon\n",
      "7         NaN        Queen of the Gods        Peacock   8500      Hera\n",
      "8         NaN        Goddess of Wisdom            Owl   8000    Athena\n",
      "9         NaN    God of the Underworld         Helmet   9500     Hades\n"
     ]
    }
   ],
   "source": [
    "pd3=pd.merge(pd1,pd2,how=\"outer\")\n",
    "print(pd3)"
   ]
  },
  {
   "cell_type": "code",
   "execution_count": 8,
   "metadata": {},
   "outputs": [
    {
     "name": "stdout",
     "output_type": "stream",
     "text": [
      "  Goddess                 Domain       Symbol    Age       God\n",
      "5     NaN       King of the Gods  Thunderbolt  10000      Zeus\n",
      "9     NaN  God of the Underworld       Helmet   9500     Hades\n",
      "6     NaN         God of the Sea      Trident   9000  Poseidon\n",
      "7     NaN      Queen of the Gods      Peacock   8500      Hera\n",
      "3  Hestia  Goddess of the Hearth         Fire   8200       NaN\n"
     ]
    }
   ],
   "source": [
    "pd4=pd3[(pd3['Age'] > 8000)].sort_values(by=['Age'], ascending=False)\n",
    "print(pd4)"
   ]
  },
  {
   "cell_type": "code",
   "execution_count": 14,
   "metadata": {},
   "outputs": [
    {
     "name": "stdout",
     "output_type": "stream",
     "text": [
      "Domain\n",
      "God of the Sea              9000.0\n",
      "God of the Underworld       9500.0\n",
      "Goddess of Agriculture      8000.0\n",
      "Goddess of Love             7000.0\n",
      "Goddess of Wisdom           8000.0\n",
      "Goddess of the Hearth       8200.0\n",
      "Goddess of the Hunt         7500.0\n",
      "King of the Gods           10000.0\n",
      "Queen of the Gods           8500.0\n",
      "Queen of the Underworld     7800.0\n",
      "Name: Age, dtype: float64\n"
     ]
    }
   ],
   "source": [
    "pd5=pd3.groupby('Domain')['Age'].mean()\n",
    "print(pd5)"
   ]
  },
  {
   "cell_type": "code",
   "execution_count": 35,
   "metadata": {},
   "outputs": [
    {
     "name": "stdout",
     "output_type": "stream",
     "text": [
      "God\n"
     ]
    }
   ],
   "source": [
    "max_age=pd3.loc[pd3['Age'].idxmax()]\n",
    "if pd.isnull(max_age.loc['Goddess']):\n",
    "    print(\"God\")\n",
    "else:\n",
    "    print(\"Goddess\")"
   ]
  },
  {
   "cell_type": "code",
   "execution_count": 46,
   "metadata": {},
   "outputs": [
    {
     "name": "stdout",
     "output_type": "stream",
     "text": [
      "      Goddess                   Domain         Symbol   Age    Age_Group\n",
      "0   Aphrodite          Goddess of Love           Dove  7000  Middle-Aged\n",
      "1     Artemis      Goddess of the Hunt  Bow and Arrow  7500  Middle-Aged\n",
      "2     Demeter   Goddess of Agriculture          Wheat  8000          Old\n",
      "3      Hestia    Goddess of the Hearth           Fire  8200          Old\n",
      "4  Persephone  Queen of the Underworld    Pomegranate  7800  Middle-Aged\n",
      "        God                 Domain       Symbol    Age Age_Group\n",
      "0      Zeus       King of the Gods  Thunderbolt  10000       Old\n",
      "1  Poseidon         God of the Sea      Trident   9000       Old\n",
      "2      Hera      Queen of the Gods      Peacock   8500       Old\n",
      "3    Athena      Goddess of Wisdom          Owl   8000       Old\n",
      "4     Hades  God of the Underworld       Helmet   9500       Old\n"
     ]
    }
   ],
   "source": [
    "bins=[0,5000,8000,float('inf')]\n",
    "labels=['Young','Middle-Aged','Old']\n",
    "pd1['Age_Group']=pd.cut(pd1['Age'],bins=bins,labels=labels,right=False)\n",
    "print(pd1)\n",
    "pd2['Age_Group']=pd.cut(pd2['Age'],bins=bins,labels=labels,right=False)\n",
    "print(pd2)"
   ]
  },
  {
   "cell_type": "code",
   "execution_count": 47,
   "metadata": {},
   "outputs": [
    {
     "name": "stdout",
     "output_type": "stream",
     "text": [
      "Goddess tend to be older\n"
     ]
    }
   ],
   "source": [
    "avg_age_god = pd1['Age'].mean()\n",
    "avg_age_goddess = pd2['Age'].mean()\n",
    "if avg_age_god > avg_age_goddess:\n",
    "    print(\"Gods tend to be older\")\n",
    "elif avg_age_goddess > avg_age_god:\n",
    "    print(\"Goddess tend to be older\")\n",
    "else:\n",
    "    print(\"there is no difference between the avg age\")"
   ]
  },
  {
   "cell_type": "code",
   "execution_count": 79,
   "metadata": {},
   "outputs": [
    {
     "name": "stdout",
     "output_type": "stream",
     "text": [
      "3    0\n",
      "Name: God, dtype: object\n",
      "5    Zeus\n",
      "Name: God, dtype: object\n",
      "6    Poseidon\n",
      "Name: God, dtype: object\n",
      "7    Hera\n",
      "Name: God, dtype: object\n",
      "9    Hades\n",
      "Name: God, dtype: object\n"
     ]
    }
   ],
   "source": [
    "pd3['Goddess'] = pd3['Goddess'].replace(np.nan, 0)\n",
    "pd3['God'] = pd3['God'].replace(np.nan, 0)\n",
    "for i in pd3['Age']:\n",
    "    if i>8000:\n",
    "        a=pd3.loc[pd3['Age']==i,'God']\n",
    "        b=pd3.loc[pd3['Age']==i,'Goddess']\n",
    "        if a.item()==\"\":\n",
    "            print(b)\n",
    "        else:\n",
    "            print(a)\n",
    "        \n",
    "        \n",
    "        \n",
    "        "
   ]
  }
 ],
 "metadata": {
  "kernelspec": {
   "display_name": "Python 3",
   "language": "python",
   "name": "python3"
  },
  "language_info": {
   "codemirror_mode": {
    "name": "ipython",
    "version": 3
   },
   "file_extension": ".py",
   "mimetype": "text/x-python",
   "name": "python",
   "nbconvert_exporter": "python",
   "pygments_lexer": "ipython3",
   "version": "3.10.10"
  },
  "orig_nbformat": 4
 },
 "nbformat": 4,
 "nbformat_minor": 2
}
